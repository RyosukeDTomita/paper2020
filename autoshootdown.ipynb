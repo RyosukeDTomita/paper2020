{
 "cells": [
  {
   "cell_type": "code",
   "execution_count": 1,
   "metadata": {
    "collapsed": false
   },
   "outputs": [
    {
     "name": "stdout",
     "output_type": "stream",
     "text": [
      "1920\n",
      "1080\n",
      "2574 , 345\n"
     ]
    }
   ],
   "source": [
    "import pyautogui as pgui\n",
    " # 画面サイズを取得\n",
    "width, height = pgui.size()\n",
    "print(width)\n",
    "print(height)\n",
    "#ポインターの位置\n",
    "x, y = pgui.position()\n",
    "print(x,',',y)"
   ]
  },
  {
   "cell_type": "code",
   "execution_count": null,
   "metadata": {
    "collapsed": true
   },
   "outputs": [],
   "source": [
    "# def vnckill():\n",
    "    pgui.moveTo(568,1057, duration=0.7)\n",
    "    pgui.click(568, 1057)\n",
    "    pgui.typewrite('vnckill')\n",
    "    pgui.typewrite(['enter'])\n",
    "    pgui.typewrite('logout')\n",
    "    pgui.typewrite(['enter'])\n",
    "                    \n",
    "#[]がつくと特殊キー扱いになる   "
   ]
  },
  {
   "cell_type": "code",
   "execution_count": 45,
   "metadata": {
    "collapsed": false
   },
   "outputs": [],
   "source": [
    "vnckill()"
   ]
  },
  {
   "cell_type": "code",
   "execution_count": 47,
   "metadata": {
    "collapsed": false
   },
   "outputs": [],
   "source": [
    "def vncopen():\n",
    "    pgui.moveTo(568, 1057, duration=0.7)\n",
    "    pgui.click(568, 1057)\n",
    "    pgui.moveTo(945 , 565, duration=0.7)\n",
    "    pgui.click(945 , 565)\n",
    "    pgui.click(945 , 565)\n",
    "    pgui.typewrite('h0b1gsy6')\n",
    "    pgui.typewrite(['enter'])\n",
    "    pgui.typewrite('vnc')\n",
    "    pgui.typewrite(['enter'])\n",
    "    pgui.moveTo(609,1065, duration=0.7)\n",
    "    pgui.click(609,1065)\n",
    "    pgui.typewrite(['enter'])\n",
    "    pgui.typewrite('h0b1gsy6')\n",
    "#なぜか動かないパスワードの自動入力はできないのかも    "
   ]
  },
  {
   "cell_type": "code",
   "execution_count": 2,
   "metadata": {
    "collapsed": false
   },
   "outputs": [
    {
     "name": "stderr",
     "output_type": "stream",
     "text": [
      "ERROR:root:Internal Python error in the inspect module.\n",
      "Below is the traceback from this internal error.\n",
      "\n",
      "\n",
      "KeyboardInterrupt\n",
      "\n"
     ]
    }
   ],
   "source": [
    "pgui.click(787 , 620) \n",
    "pgui.typewrite(['space'])\n",
    "for i in range(1,1000,1):\n",
    "    pgui.typewrite('iiiiiiiiiiiiiiiiiiiiiiiiiiiiiiiiiiiiiiiiiiiiiiiiiiiiiiiiiiiiiiiiiiiiiiiiiiiiiiii')\n",
    "    "
   ]
  }
 ],
 "metadata": {
  "kernelspec": {
   "display_name": "Python 3",
   "language": "python",
   "name": "python3"
  },
  "language_info": {
   "codemirror_mode": {
    "name": "ipython",
    "version": 3
   },
   "file_extension": ".py",
   "mimetype": "text/x-python",
   "name": "python",
   "nbconvert_exporter": "python",
   "pygments_lexer": "ipython3",
   "version": "3.6.8"
  },
  "toc": {
   "base_numbering": 1,
   "nav_menu": {},
   "number_sections": true,
   "sideBar": true,
   "skip_h1_title": false,
   "title_cell": "Table of Contents",
   "title_sidebar": "Contents",
   "toc_cell": false,
   "toc_position": {},
   "toc_section_display": true,
   "toc_window_display": false
  },
  "varInspector": {
   "cols": {
    "lenName": 16,
    "lenType": 16,
    "lenVar": 40
   },
   "kernels_config": {
    "python": {
     "delete_cmd_postfix": "",
     "delete_cmd_prefix": "del ",
     "library": "var_list.py",
     "varRefreshCmd": "print(var_dic_list())"
    },
    "r": {
     "delete_cmd_postfix": ") ",
     "delete_cmd_prefix": "rm(",
     "library": "var_list.r",
     "varRefreshCmd": "cat(var_dic_list()) "
    }
   },
   "types_to_exclude": [
    "module",
    "function",
    "builtin_function_or_method",
    "instance",
    "_Feature"
   ],
   "window_display": false
  }
 },
 "nbformat": 4,
 "nbformat_minor": 2
}
